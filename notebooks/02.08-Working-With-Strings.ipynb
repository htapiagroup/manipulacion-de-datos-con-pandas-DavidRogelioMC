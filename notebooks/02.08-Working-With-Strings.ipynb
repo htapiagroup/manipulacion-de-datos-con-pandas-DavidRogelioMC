{
  "nbformat": 4,
  "nbformat_minor": 0,
  "metadata": {
    "anaconda-cloud": {},
    "kernelspec": {
      "display_name": "Python 2",
      "language": "python",
      "name": "python2"
    },
    "language_info": {
      "codemirror_mode": {
        "name": "ipython",
        "version": 2
      },
      "file_extension": ".py",
      "mimetype": "text/x-python",
      "name": "python",
      "nbconvert_exporter": "python",
      "pygments_lexer": "ipython2",
      "version": "2.7.15"
    },
    "colab": {
      "name": "02.08-Working-With-Strings.ipynb",
      "provenance": [],
      "include_colab_link": true
    }
  },
  "cells": [
    {
      "cell_type": "markdown",
      "metadata": {
        "id": "view-in-github",
        "colab_type": "text"
      },
      "source": [
        "<a href=\"https://colab.research.google.com/github/htapiagroup/manipulacion-de-datos-con-pandas-DavidRogelioMC/blob/master/notebooks/02.08-Working-With-Strings.ipynb\" target=\"_parent\"><img src=\"https://colab.research.google.com/assets/colab-badge.svg\" alt=\"Open In Colab\"/></a>"
      ]
    },
    {
      "cell_type": "markdown",
      "metadata": {
        "id": "DBya5N0HoV7S",
        "colab_type": "text"
      },
      "source": [
        "<!--BOOK_INFORMATION-->\n",
        "<img align=\"left\" style=\"padding-right:10px;\" src=\"https://github.com/DavidRogelioMC/TallerPythonIntroCienciaDatos/blob/master/notebooks/figures/header_small.png?raw=1\">\n",
        "\n",
        "*Esta libreta contiene material del Taller de Python que se lleva a cabo como parte del \n",
        "evento [Data Challenge Industrial 4.0](www.lania.mx/dci). El contenido ha sido adaptado \n",
        "por HTM y GED a partir del libro [Python Data Science Handbook](http://shop.oreilly.com/product/0636920034919.do) \n",
        "de Jake VanderPlas y se mantiene la licencia sobre el texto, \n",
        "[CC-BY-NC-ND license](https://creativecommons.org/licenses/by-nc-nd/3.0/us/legalcode), \n",
        "y sobre el codigo [MIT license](https://opensource.org/licenses/MIT).*"
      ]
    },
    {
      "cell_type": "markdown",
      "metadata": {
        "id": "xAz2W7k3oV79",
        "colab_type": "text"
      },
      "source": [
        "<!--NAVIGATION-->\n",
        "< [Agregaciones y agrupaciones](02.07-Aggregation-and-Grouping.ipynb) | [Contenido](Index.ipynb) | [Series de tiempo](02.09-Working-with-Time-Series.ipynb) >\n",
        "\n",
        "<a href=\"https://colab.research.google.com/github/htapia/TallerPythonIntroCienciaDatos/blob/master/notebooks/02.08-Working-With-Strings.ipynb\"><img align=\"left\" src=\"https://colab.research.google.com/assets/colab-badge.svg\" alt=\"Open in Colab\" title=\"Open and Execute in Google Colaboratory\"></a>\n"
      ]
    },
    {
      "cell_type": "markdown",
      "metadata": {
        "id": "r3XtWZeToV8S",
        "colab_type": "text"
      },
      "source": [
        "# Operaciones sobre texto"
      ]
    },
    {
      "cell_type": "markdown",
      "metadata": {
        "id": "tuspVKZhoV8k",
        "colab_type": "text"
      },
      "source": [
        "## Introducción a las operaciones sobre texto en Pandas"
      ]
    },
    {
      "cell_type": "code",
      "metadata": {
        "id": "x2sQC-J6oV86",
        "colab_type": "code",
        "colab": {
          "base_uri": "https://localhost:8080/",
          "height": 34
        },
        "outputId": "24187652-c15d-40cc-9b00-1d097a283884"
      },
      "source": [
        "import numpy as np\n",
        "x = np.array([2, 3, 5, 7, 11, 13])\n",
        "x * 2"
      ],
      "execution_count": 4,
      "outputs": [
        {
          "output_type": "execute_result",
          "data": {
            "text/plain": [
              "array([ 4,  6, 10, 14, 22, 26])"
            ]
          },
          "metadata": {
            "tags": []
          },
          "execution_count": 4
        }
      ]
    },
    {
      "cell_type": "code",
      "metadata": {
        "id": "zA8xziBvoV-C",
        "colab_type": "code",
        "colab": {
          "base_uri": "https://localhost:8080/",
          "height": 34
        },
        "outputId": "ed7d7101-c888-4d0e-bac9-4c42ae978619"
      },
      "source": [
        "data = ['peter', 'Paul', 'MARY', 'gUIDO']\n",
        "[s.capitalize() for s in data]"
      ],
      "execution_count": 5,
      "outputs": [
        {
          "output_type": "execute_result",
          "data": {
            "text/plain": [
              "['Peter', 'Paul', 'Mary', 'Guido']"
            ]
          },
          "metadata": {
            "tags": []
          },
          "execution_count": 5
        }
      ]
    },
    {
      "cell_type": "code",
      "metadata": {
        "id": "F3lqRLwKoV-v",
        "colab_type": "code",
        "colab": {
          "base_uri": "https://localhost:8080/",
          "height": 185
        },
        "outputId": "4a5f4f9a-4972-428f-80d9-1f3fe7d98ce2"
      },
      "source": [
        "data = ['peter', 'Paul', None, 'MARY', 'gUIDO']\n",
        "[s.capitalize() for s in data]"
      ],
      "execution_count": 6,
      "outputs": [
        {
          "output_type": "error",
          "ename": "AttributeError",
          "evalue": "ignored",
          "traceback": [
            "\u001b[0;31m\u001b[0m",
            "\u001b[0;31mAttributeError\u001b[0mTraceback (most recent call last)",
            "\u001b[0;32m<ipython-input-6-3b0264c38d59>\u001b[0m in \u001b[0;36m<module>\u001b[0;34m()\u001b[0m\n\u001b[1;32m      1\u001b[0m \u001b[0mdata\u001b[0m \u001b[0;34m=\u001b[0m \u001b[0;34m[\u001b[0m\u001b[0;34m'peter'\u001b[0m\u001b[0;34m,\u001b[0m \u001b[0;34m'Paul'\u001b[0m\u001b[0;34m,\u001b[0m \u001b[0mNone\u001b[0m\u001b[0;34m,\u001b[0m \u001b[0;34m'MARY'\u001b[0m\u001b[0;34m,\u001b[0m \u001b[0;34m'gUIDO'\u001b[0m\u001b[0;34m]\u001b[0m\u001b[0;34m\u001b[0m\u001b[0;34m\u001b[0m\u001b[0m\n\u001b[0;32m----> 2\u001b[0;31m \u001b[0;34m[\u001b[0m\u001b[0ms\u001b[0m\u001b[0;34m.\u001b[0m\u001b[0mcapitalize\u001b[0m\u001b[0;34m(\u001b[0m\u001b[0;34m)\u001b[0m \u001b[0;32mfor\u001b[0m \u001b[0ms\u001b[0m \u001b[0;32min\u001b[0m \u001b[0mdata\u001b[0m\u001b[0;34m]\u001b[0m\u001b[0;34m\u001b[0m\u001b[0;34m\u001b[0m\u001b[0m\n\u001b[0m",
            "\u001b[0;31mAttributeError\u001b[0m: 'NoneType' object has no attribute 'capitalize'"
          ]
        }
      ]
    },
    {
      "cell_type": "code",
      "metadata": {
        "id": "0bC_9dDGoV_Z",
        "colab_type": "code",
        "colab": {}
      },
      "source": [
        "import pandas as pd\n",
        "names = pd.Series(data)\n",
        "names"
      ],
      "execution_count": 0,
      "outputs": []
    },
    {
      "cell_type": "code",
      "metadata": {
        "id": "SsZPRiDEoWAH",
        "colab_type": "code",
        "colab": {}
      },
      "source": [
        "names.str.capitalize()"
      ],
      "execution_count": 0,
      "outputs": []
    },
    {
      "cell_type": "markdown",
      "metadata": {
        "id": "d_RTWzT4oWBH",
        "colab_type": "text"
      },
      "source": [
        "## Métodos para texto en Pandas"
      ]
    },
    {
      "cell_type": "code",
      "metadata": {
        "id": "VNSLp8VBoWBU",
        "colab_type": "code",
        "colab": {}
      },
      "source": [
        "monte = pd.Series(['Graham Chapman', 'John Cleese', 'Terry Gilliam',\n",
        "                   'Eric Idle', 'Terry Jones', 'Michael Palin'])"
      ],
      "execution_count": 0,
      "outputs": []
    },
    {
      "cell_type": "markdown",
      "metadata": {
        "id": "hVtzC6UhoWCN",
        "colab_type": "text"
      },
      "source": [
        "### Métodos similares a los de Python (para texto) \n",
        "\n",
        "| Método  | <!-- -->    | <!-- -->    | <!-- -->    |\n",
        "| ------------- | ------------- | ------------- | ------------- \n",
        "``len()``    | ``lower()``      | ``translate()``  | ``islower()``     \n",
        "``ljust()``  | ``upper()``      | ``startswith()`` | ``isupper()``     \n",
        "``rjust()``  | ``find()``       | ``endswith()``   | ``isnumeric()``   \n",
        "``center()`` | ``rfind()``      | ``isalnum()``    | ``isdecimal()``   \n",
        "``zfill()``  | ``index()``      | ``isalpha()``    | ``split()``       \n",
        "``strip()``  | ``rindex()``     | ``isdigit()``    | ``rsplit()``      \n",
        "``rstrip()`` | ``capitalize()`` | ``isspace()``    | ``partition()``   \n",
        "``lstrip()`` |  ``swapcase()``  |  ``istitle()``   | ``rpartition()`` \n"
      ]
    },
    {
      "cell_type": "code",
      "metadata": {
        "id": "r5lHf-EpoWCb",
        "colab_type": "code",
        "colab": {}
      },
      "source": [
        "monte.str.lower()"
      ],
      "execution_count": 0,
      "outputs": []
    },
    {
      "cell_type": "code",
      "metadata": {
        "id": "g1Dtlgf-oWC_",
        "colab_type": "code",
        "colab": {}
      },
      "source": [
        "monte.str.len()"
      ],
      "execution_count": 0,
      "outputs": []
    },
    {
      "cell_type": "code",
      "metadata": {
        "id": "jNHb5xX-oWDj",
        "colab_type": "code",
        "colab": {}
      },
      "source": [
        "monte.str.startswith('T')"
      ],
      "execution_count": 0,
      "outputs": []
    },
    {
      "cell_type": "code",
      "metadata": {
        "id": "ay3LZV_joWEP",
        "colab_type": "code",
        "colab": {}
      },
      "source": [
        "monte.str.split()"
      ],
      "execution_count": 0,
      "outputs": []
    },
    {
      "cell_type": "markdown",
      "metadata": {
        "id": "Z0c9_agnoWEt",
        "colab_type": "text"
      },
      "source": [
        "### Métodos que usan exrpresiones regulares\n",
        "\n",
        "| Método | Descripción |\n",
        "|--------|-------------|\n",
        "| ``match()`` | Call ``re.match()`` on each element, returning a boolean. |\n",
        "| ``extract()`` | Call ``re.match()`` on each element, returning matched groups as strings.|\n",
        "| ``findall()`` | Call ``re.findall()`` on each element |\n",
        "| ``replace()`` | Replace occurrences of pattern with some other string|\n",
        "| ``contains()`` | Call ``re.search()`` on each element, returning a boolean |\n",
        "| ``count()`` | Count occurrences of pattern|\n",
        "| ``split()``   | Equivalent to ``str.split()``, but accepts regexps |\n",
        "| ``rsplit()`` | Equivalent to ``str.rsplit()``, but accepts regexps |"
      ]
    },
    {
      "cell_type": "code",
      "metadata": {
        "id": "GxOc0z4JoWE1",
        "colab_type": "code",
        "colab": {}
      },
      "source": [
        "monte.str.extract('([A-Za-z]+)', expand=False)"
      ],
      "execution_count": 0,
      "outputs": []
    },
    {
      "cell_type": "code",
      "metadata": {
        "id": "E8H-KLrfoWFX",
        "colab_type": "code",
        "colab": {}
      },
      "source": [
        "monte.str.findall(r'^[^AEIOU].*[^aeiou]$')"
      ],
      "execution_count": 0,
      "outputs": []
    },
    {
      "cell_type": "markdown",
      "metadata": {
        "id": "4yjaIioEoWGW",
        "colab_type": "text"
      },
      "source": [
        "### Métodos varios\n",
        "\n",
        "\n",
        "| Método | Descripción |\n",
        "|--------|-------------|\n",
        "| ``get()`` | Index each element |\n",
        "| ``slice()`` | Slice each element|\n",
        "| ``slice_replace()`` | Replace slice in each element with passed value|\n",
        "| ``cat()``      | Concatenate strings|\n",
        "| ``repeat()`` | Repeat values |\n",
        "| ``normalize()`` | Return Unicode form of string |\n",
        "| ``pad()`` | Add whitespace to left, right, or both sides of strings|\n",
        "| ``wrap()`` | Split long strings into lines with length less than a given width|\n",
        "| ``join()`` | Join strings in each element of the Series with passed separator|\n",
        "| ``get_dummies()`` | extract dummy variables as a dataframe |"
      ]
    },
    {
      "cell_type": "markdown",
      "metadata": {
        "id": "L5scmhzroWGf",
        "colab_type": "text"
      },
      "source": [
        "#### Acceso vectorizado a elementos y rebanadas de texto"
      ]
    },
    {
      "cell_type": "code",
      "metadata": {
        "id": "AtafifFEoWGr",
        "colab_type": "code",
        "colab": {}
      },
      "source": [
        "monte.str[0:3]"
      ],
      "execution_count": 0,
      "outputs": []
    },
    {
      "cell_type": "code",
      "metadata": {
        "id": "sI53V6EFoWHL",
        "colab_type": "code",
        "colab": {}
      },
      "source": [
        "monte.str.split().str.get(-1)"
      ],
      "execution_count": 0,
      "outputs": []
    },
    {
      "cell_type": "markdown",
      "metadata": {
        "id": "45TTrigboWHv",
        "colab_type": "text"
      },
      "source": [
        "#### Variables de indicación"
      ]
    },
    {
      "cell_type": "code",
      "metadata": {
        "id": "Xb_ybcjroWH4",
        "colab_type": "code",
        "colab": {}
      },
      "source": [
        "full_monte = pd.DataFrame({'name': monte,\n",
        "                           'info': ['B|C|D', 'B|D', 'A|C',\n",
        "                                    'B|D', 'B|C', 'B|C|D']})\n",
        "full_monte"
      ],
      "execution_count": 0,
      "outputs": []
    },
    {
      "cell_type": "code",
      "metadata": {
        "id": "EapyJIWKoWIU",
        "colab_type": "code",
        "colab": {}
      },
      "source": [
        "full_monte['info'].str.get_dummies('|')"
      ],
      "execution_count": 0,
      "outputs": []
    },
    {
      "cell_type": "markdown",
      "metadata": {
        "id": "zYTap7OIoWI7",
        "colab_type": "text"
      },
      "source": [
        "## Ejemplo: Base de datos de recetas"
      ]
    },
    {
      "cell_type": "code",
      "metadata": {
        "id": "53f3ABm7oWJJ",
        "colab_type": "code",
        "colab": {}
      },
      "source": [
        "# !curl -O http://openrecipes.s3.amazonaws.com/recipeitems-latest.json.gz\n",
        "# !gunzip recipeitems-latest.json.gz"
      ],
      "execution_count": 0,
      "outputs": []
    },
    {
      "cell_type": "code",
      "metadata": {
        "id": "1DP4LG50oWJl",
        "colab_type": "code",
        "colab": {}
      },
      "source": [
        "try:\n",
        "    recipes = pd.read_json('http://openrecipes.s3.amazonaws.com/recipeitems-latest.json.gz')\n",
        "except ValueError as e:\n",
        "    print(\"ValueError:\", e)"
      ],
      "execution_count": 0,
      "outputs": []
    },
    {
      "cell_type": "code",
      "metadata": {
        "id": "mjSyQt2poWKP",
        "colab_type": "code",
        "colab": {}
      },
      "source": [
        "with open('recipeitems-latest.json.gz ') as f:\n",
        "    line = f.readline()\n",
        "pd.read_json(line).shape"
      ],
      "execution_count": 0,
      "outputs": []
    },
    {
      "cell_type": "code",
      "metadata": {
        "id": "9xtf3uDBoWKs",
        "colab_type": "code",
        "colab": {}
      },
      "source": [
        "# read the entire file into a Python array\n",
        "with open('recipeitems-latest.json', 'r') as f:\n",
        "    # Extract each line\n",
        "    data = (line.strip() for line in f)\n",
        "    # Reformat so each line is the element of a list\n",
        "    data_json = \"[{0}]\".format(','.join(data))\n",
        "# read the result as a JSON\n",
        "recipes = pd.read_json(data_json)"
      ],
      "execution_count": 0,
      "outputs": []
    },
    {
      "cell_type": "code",
      "metadata": {
        "id": "vI6m5m9-oWLc",
        "colab_type": "code",
        "colab": {}
      },
      "source": [
        "recipes.shape"
      ],
      "execution_count": 0,
      "outputs": []
    },
    {
      "cell_type": "code",
      "metadata": {
        "id": "Nozf8f8SoWL4",
        "colab_type": "code",
        "colab": {}
      },
      "source": [
        "recipes.iloc[0]"
      ],
      "execution_count": 0,
      "outputs": []
    },
    {
      "cell_type": "code",
      "metadata": {
        "id": "XabGGVy-oWMP",
        "colab_type": "code",
        "colab": {}
      },
      "source": [
        "recipes.ingredients.str.len().describe()"
      ],
      "execution_count": 0,
      "outputs": []
    },
    {
      "cell_type": "code",
      "metadata": {
        "id": "QN77lXszoWMw",
        "colab_type": "code",
        "colab": {}
      },
      "source": [
        "recipes.name[np.argmax(recipes.ingredients.str.len())]"
      ],
      "execution_count": 0,
      "outputs": []
    },
    {
      "cell_type": "code",
      "metadata": {
        "id": "QwJ2uVOFoWNK",
        "colab_type": "code",
        "colab": {}
      },
      "source": [
        "recipes.description.str.contains('[Bb]reakfast').sum()"
      ],
      "execution_count": 0,
      "outputs": []
    },
    {
      "cell_type": "code",
      "metadata": {
        "id": "8n15AEVloWN1",
        "colab_type": "code",
        "colab": {}
      },
      "source": [
        "recipes.ingredients.str.contains('[Cc]innamon').sum()"
      ],
      "execution_count": 0,
      "outputs": []
    },
    {
      "cell_type": "code",
      "metadata": {
        "id": "DzgZNhRZoWOb",
        "colab_type": "code",
        "colab": {}
      },
      "source": [
        "recipes.ingredients.str.contains('[Cc]inamon').sum()"
      ],
      "execution_count": 0,
      "outputs": []
    },
    {
      "cell_type": "markdown",
      "metadata": {
        "id": "jTJDc0PooWOv",
        "colab_type": "text"
      },
      "source": [
        "### Un sistema de recomendación de recetas"
      ]
    },
    {
      "cell_type": "code",
      "metadata": {
        "id": "LPP1InCIoWO4",
        "colab_type": "code",
        "colab": {}
      },
      "source": [
        "spice_list = ['salt', 'pepper', 'oregano', 'sage', 'parsley',\n",
        "              'rosemary', 'tarragon', 'thyme', 'paprika', 'cumin']"
      ],
      "execution_count": 0,
      "outputs": []
    },
    {
      "cell_type": "code",
      "metadata": {
        "id": "EtswLTj0oWPS",
        "colab_type": "code",
        "colab": {}
      },
      "source": [
        "import re\n",
        "spice_df = pd.DataFrame(dict((spice, recipes.ingredients.str.contains(spice, re.IGNORECASE))\n",
        "                             for spice in spice_list))\n",
        "spice_df.head()"
      ],
      "execution_count": 0,
      "outputs": []
    },
    {
      "cell_type": "code",
      "metadata": {
        "id": "XbvfhIuFoWPy",
        "colab_type": "code",
        "colab": {}
      },
      "source": [
        "selection = spice_df.query('parsley & paprika & tarragon')\n",
        "len(selection)"
      ],
      "execution_count": 0,
      "outputs": []
    },
    {
      "cell_type": "code",
      "metadata": {
        "id": "eNTy3oakoWQI",
        "colab_type": "code",
        "colab": {}
      },
      "source": [
        "recipes.name[selection.index]"
      ],
      "execution_count": 0,
      "outputs": []
    },
    {
      "cell_type": "markdown",
      "metadata": {
        "id": "RNcdvkLeoWQh",
        "colab_type": "text"
      },
      "source": [
        "<!--NAVIGATION-->\n",
        "< [Agregaciones y agrupaciones](02.07-Aggregation-and-Grouping.ipynb) | [Contenido](Index.ipynb) | [Series de tiempo](02.09-Working-with-Time-Series.ipynb) >\n",
        "\n",
        "<a href=\"https://colab.research.google.com/github/htapia/TallerPythonIntroCienciaDatos/blob/master/notebooks/02.08-Working-With-Strings.ipynb\"><img align=\"left\" src=\"https://colab.research.google.com/assets/colab-badge.svg\" alt=\"Open in Colab\" title=\"Open and Execute in Google Colaboratory\"></a>\n"
      ]
    }
  ]
}